{
  "nbformat": 4,
  "nbformat_minor": 0,
  "metadata": {
    "colab": {
      "provenance": [],
      "toc_visible": true,
      "authorship_tag": "ABX9TyN8pEIVOQsQBRPihrHvL9vp",
      "include_colab_link": true
    },
    "kernelspec": {
      "name": "python3",
      "display_name": "Python 3"
    },
    "language_info": {
      "name": "python"
    }
  },
  "cells": [
    {
      "cell_type": "markdown",
      "metadata": {
        "id": "view-in-github",
        "colab_type": "text"
      },
      "source": [
        "<a href=\"https://colab.research.google.com/github/Nexus7996/Python-Lesson/blob/main/%E7%AD%86%E8%A8%98_python%E7%AC%AC1%E7%AF%80.ipynb\" target=\"_parent\"><img src=\"https://colab.research.google.com/assets/colab-badge.svg\" alt=\"Open In Colab\"/></a>"
      ]
    },
    {
      "cell_type": "markdown",
      "source": [
        "#第1節"
      ],
      "metadata": {
        "id": "tQjss8tx61-m"
      }
    },
    {
      "cell_type": "markdown",
      "source": [
        "##學習print、input、len(計算字母數量)"
      ],
      "metadata": {
        "id": "KCo2zzTM73tu"
      }
    },
    {
      "cell_type": "code",
      "execution_count": null,
      "metadata": {
        "id": "SItGk6dk4Rkl",
        "colab": {
          "base_uri": "https://localhost:8080/"
        },
        "outputId": "d27481c2-ad34-4760-89ae-ae57aed815f9"
      },
      "outputs": [
        {
          "output_type": "stream",
          "name": "stdout",
          "text": [
            "Hello world! Hey! Man!\n"
          ]
        }
      ],
      "source": [
        "#1--print的效果和空格\n",
        "print(\"Hello world\" + \" Hey! \" + \"!\")"
      ]
    },
    {
      "cell_type": "code",
      "source": [
        "#2--執行後，輸入名字+Enter才會print出來\n",
        "print(\"Hello\" +\" \" +input(\"what is your name?\") + \"!\")"
      ],
      "metadata": {
        "colab": {
          "base_uri": "https://localhost:8080/"
        },
        "id": "xlFKu7YO441s",
        "outputId": "00dfc13d-26cc-4f26-f4fb-264257f4d5b0"
      },
      "execution_count": null,
      "outputs": [
        {
          "output_type": "stream",
          "name": "stdout",
          "text": [
            "what is your name?456\n",
            "Hello 456!\n"
          ]
        }
      ]
    },
    {
      "cell_type": "code",
      "source": [
        "#3--熟悉程式由上往下讀  +  輸入名字計算長度(你敲空白鍵也會算1個字)\n",
        "name = \"Kenny\"\n",
        "print(name)\n",
        "\n",
        "name = \"Tom\"\n",
        "print(name)\n",
        "\n",
        "username = input(\"what is your name?\")\n",
        "length = len(username)\n",
        "print(length)"
      ],
      "metadata": {
        "colab": {
          "base_uri": "https://localhost:8080/"
        },
        "id": "FqmK-lpZ82ZW",
        "outputId": "2289166f-d909-4f8d-e81b-29ac055635a3"
      },
      "execution_count": null,
      "outputs": [
        {
          "output_type": "stream",
          "name": "stdout",
          "text": [
            "Kenny\n",
            "Tom\n",
            "what is your name? 456\n",
            "4\n"
          ]
        }
      ]
    },
    {
      "cell_type": "markdown",
      "source": [
        "###最終成品-第一節"
      ],
      "metadata": {
        "id": "2TfikYYLPIvq"
      }
    },
    {
      "cell_type": "code",
      "source": [
        "#4--最終作業\n",
        "最終作業\n",
        "print(\"welcome to the Band Name Generator.\")\n",
        "city = input(\"Which city did you grow up in?\")\n",
        "pet = input(\"what is the name of a pet?\")\n",
        "print(\"Your band name could be \" + city + \" \" + pet )"
      ],
      "metadata": {
        "colab": {
          "base_uri": "https://localhost:8080/"
        },
        "id": "iuSdVxTiOZNR",
        "outputId": "1ee70550-4530-4ed9-a662-49aa711716c3"
      },
      "execution_count": null,
      "outputs": [
        {
          "output_type": "stream",
          "name": "stdout",
          "text": [
            "welcome to the Band Name Generator.\n",
            "Which city did you grow up in?1\n",
            "what is the name of a pet?1\n",
            "Your band name could be 1 1\n"
          ]
        }
      ]
    },
    {
      "cell_type": "code",
      "source": [
        "#5--最終作業--在line2和line3最後加上\\n，可以讓回答顯示在問題下方，比較美觀\n",
        "print(\"welcome to the Band Name Generator.\")\n",
        "city = input(\"Which city did you grow up in?\\n\")\n",
        "pet = input(\"what is the name of a pet?\\n\")\n",
        "print(\"Your band name could be \" + city + \" \" + pet )"
      ],
      "metadata": {
        "colab": {
          "base_uri": "https://localhost:8080/"
        },
        "id": "urcixTf4PP0K",
        "outputId": "3e907abd-610e-4381-c1e3-890f57ecb6b1"
      },
      "execution_count": null,
      "outputs": [
        {
          "output_type": "stream",
          "name": "stdout",
          "text": [
            "welcome to the Band Name Generator.\n",
            "Which city did you grow up in?\n",
            "Tainan\n",
            "what is the name of a pet?\n",
            "wax apple\n",
            "Your band name could be Tainan wax apple\n"
          ]
        }
      ]
    },
    {
      "cell_type": "markdown",
      "source": [],
      "metadata": {
        "id": "YnrPGqvltu-K"
      }
    },
    {
      "cell_type": "markdown",
      "source": [
        "#第2節\n"
      ],
      "metadata": {
        "id": "X8DijCIQtzXe"
      }
    },
    {
      "cell_type": "markdown",
      "source": [
        "##熟悉各種print"
      ],
      "metadata": {
        "id": "-GD13mC4uQFi"
      }
    },
    {
      "cell_type": "code",
      "source": [
        "#1--熟悉各種印\n",
        "\n",
        "#印第0個字母\n",
        "print(\"hello\"[0])\n",
        "\n",
        "#合起來印\n",
        "print(\"123\" + \"345\")\n",
        "\n",
        "#加起來\n",
        "print(123 + 345)\n",
        "\n",
        "#直接印\n",
        "print(123456789)\n",
        "\n",
        "#合起來印\n",
        "print(123_456_789)\n",
        "\n",
        "#直接印\n",
        "print(3.14159)\n",
        "print(True)\n",
        "print(False)\n",
        "\n",
        "#印出各種字串的型式\n",
        "print(type(\"abc\"))\n",
        "print(type(123))\n",
        "print(type(3.14))\n",
        "print(type(True))"
      ],
      "metadata": {
        "colab": {
          "base_uri": "https://localhost:8080/"
        },
        "id": "HmXkip8ruDMj",
        "outputId": "93568819-00fc-45d4-d7fc-c4b0b10bb35a"
      },
      "execution_count": 6,
      "outputs": [
        {
          "output_type": "stream",
          "name": "stdout",
          "text": [
            "h\n",
            "123345\n",
            "468\n",
            "123456789\n",
            "123456789\n",
            "3.14159\n",
            "True\n",
            "False\n",
            "<class 'str'>\n",
            "<class 'int'>\n",
            "<class 'float'>\n",
            "<class 'bool'>\n"
          ]
        }
      ]
    },
    {
      "cell_type": "code",
      "source": [
        "#2--綜合練習1\n",
        "print(int(\"123\") + int(\"456\"))\n",
        "\n",
        "name_of_the_user = input(\"enter your name\")\n",
        "length_of_name = len(name_of_the_user)\n",
        "\n",
        "print(type(\"number of letters in your name:  \")) #str\n",
        "print(type(length_of_name)) #int\n",
        "\n",
        "print(\"number of letters in your name:  \"  +  str(length_of_name))"
      ],
      "metadata": {
        "colab": {
          "base_uri": "https://localhost:8080/"
        },
        "id": "GZEgH9lk53MB",
        "outputId": "933e9744-e47d-4d5e-dea0-ab6faac21d45"
      },
      "execution_count": 5,
      "outputs": [
        {
          "output_type": "stream",
          "name": "stdout",
          "text": [
            "579\n",
            "enter your namegagaagagag\n",
            "<class 'str'>\n",
            "<class 'int'>\n",
            "number of letters in your name:  10\n"
          ]
        }
      ]
    },
    {
      "cell_type": "code",
      "source": [
        "#3--綜合練習2\n",
        "print(\"my age\" + str(12))\n",
        "\n",
        "print(123 + 456)\n",
        "print(7 - 3)\n",
        "print(3 * 2)\n",
        "print(6 / 3)\n",
        "print(6 // 3)  #會無條件捨去\n",
        "print(5 / 3)\n",
        "print(5 // 3)   #會無條件捨去\n",
        "print(2 ** 2) #2的2次方\n",
        "print(2 ** 3) #2的3次方\n",
        "\n",
        "print(10 * 9 + 8 / 7 - 6)  #會先10*9-->再8/7-->前兩者相加後再-6\n",
        "print(10 * (9 + 8) / 7 - 6) #會先9+8=17 -->再10*17=170-->再170/7-->再-6"
      ],
      "metadata": {
        "colab": {
          "base_uri": "https://localhost:8080/"
        },
        "id": "q_fUw-v66E9a",
        "outputId": "6d1c5a9e-985d-41e7-82d7-60515f50f9ef"
      },
      "execution_count": 7,
      "outputs": [
        {
          "output_type": "stream",
          "name": "stdout",
          "text": [
            "my age12\n",
            "579\n",
            "4\n",
            "6\n",
            "2.0\n",
            "2\n",
            "1.6666666666666667\n",
            "1\n",
            "4\n",
            "8\n",
            "85.14285714285714\n",
            "18.285714285714285\n"
          ]
        }
      ]
    },
    {
      "cell_type": "code",
      "source": [
        "#4--綜合練習3-算BMI\n",
        "height = 1.65\n",
        "weight = 84\n",
        "\n",
        "# Write your code here.\n",
        "# Calculate the bmi using weight and height.\n",
        "bmi = weight / height **2  # BMI = 體重 / 身高的平方\n",
        "\n",
        "print(bmi)  #照實印\n",
        "print(int(30.85))  #無條件捨去\n",
        "print(round(30.45))  #4捨5入\n",
        "print(round(30.55))  #4捨5入\n",
        "print(round(30.5549 , 2))  #4捨5入到小數點第2位\n",
        "print(round(30.5559 , 2))  #4捨5入到小數點第2位"
      ],
      "metadata": {
        "colab": {
          "base_uri": "https://localhost:8080/"
        },
        "id": "uY0JeJRh-fcJ",
        "outputId": "a0f9bc1a-7300-4a9a-f6e1-40afb6daad14"
      },
      "execution_count": 15,
      "outputs": [
        {
          "output_type": "stream",
          "name": "stdout",
          "text": [
            "30.85399449035813\n",
            "30\n",
            "30\n",
            "31\n",
            "30.55\n",
            "30.56\n"
          ]
        }
      ]
    },
    {
      "cell_type": "code",
      "source": [
        "#5--字串F-string語法\n",
        "score = 0\n",
        "height = 1.8\n",
        "is_winning = True\n",
        "\n",
        "#f語法會把整串包起來\n",
        "print(f\"your score is = {score} ,   your height is {height}.   you are winning is       {is_winning}\") #故意讓你看空格的成果"
      ],
      "metadata": {
        "colab": {
          "base_uri": "https://localhost:8080/"
        },
        "id": "ADEhgER8BrU2",
        "outputId": "f55bea26-1c66-4514-d232-f80240a77915"
      },
      "execution_count": 23,
      "outputs": [
        {
          "output_type": "stream",
          "name": "stdout",
          "text": [
            "your score is = 0 ,   your height is 1.8.   you are winning is       True\n"
          ]
        }
      ]
    },
    {
      "cell_type": "markdown",
      "source": [
        "###最終成品-第2節"
      ],
      "metadata": {
        "id": "i-K5kwAVHOQo"
      }
    },
    {
      "cell_type": "code",
      "source": [
        "print(\"welcome to the tip calculator!\")\n",
        "bill = float(input(\"what was the tatal bill? $\"))   #要求輸入一個數字(這個數字可以是小數點)，這個數字做為小數存在變數bill裡\n",
        "tip = int(input(\"what percentage tip would you like to give? 10 12 15  \"))  #要求輸入一個數字(不能輸入小數點)，這個數字做為數值存在變數tip裡\n",
        "people = int(input(\"how many people to spilt the bill? \"))\n",
        "tip_as_percent = tip / 100\n",
        "total_tip_amount = bill * tip_as_percent\n",
        "total_bill = bill + total_tip_amount\n",
        "bill_per_person = total_bill / people\n",
        "final_amount =round(bill_per_person , 2)\n",
        "print(f\"each person should pay : ${final_amount}\")"
      ],
      "metadata": {
        "colab": {
          "base_uri": "https://localhost:8080/"
        },
        "id": "0WbKFCXzHRqK",
        "outputId": "6fa5f10c-eb06-4c9e-c539-46857f046f8b"
      },
      "execution_count": 29,
      "outputs": [
        {
          "output_type": "stream",
          "name": "stdout",
          "text": [
            "welcome to the tip calculator!\n",
            "what was the tatal bill? $6986896\n",
            "what percentage tip would you like to give? 10 12 15  896986\n",
            "how many people to spilt the bill? 896896\n",
            "each person should pay : $69883.76\n"
          ]
        }
      ]
    }
  ]
}