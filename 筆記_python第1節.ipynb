{
  "nbformat": 4,
  "nbformat_minor": 0,
  "metadata": {
    "colab": {
      "provenance": [],
      "toc_visible": true,
      "authorship_tag": "ABX9TyNqeSEhs6576LjCcZEK7h+E",
      "include_colab_link": true
    },
    "kernelspec": {
      "name": "python3",
      "display_name": "Python 3"
    },
    "language_info": {
      "name": "python"
    }
  },
  "cells": [
    {
      "cell_type": "markdown",
      "metadata": {
        "id": "view-in-github",
        "colab_type": "text"
      },
      "source": [
        "<a href=\"https://colab.research.google.com/github/Nexus7996/Python-Lesson/blob/main/%E7%AD%86%E8%A8%98_python%E7%AC%AC1%E7%AF%80.ipynb\" target=\"_parent\"><img src=\"https://colab.research.google.com/assets/colab-badge.svg\" alt=\"Open In Colab\"/></a>"
      ]
    },
    {
      "cell_type": "markdown",
      "source": [
        "#第1節"
      ],
      "metadata": {
        "id": "tQjss8tx61-m"
      }
    },
    {
      "cell_type": "markdown",
      "source": [
        "##學習print、input、len(計算字母數量)"
      ],
      "metadata": {
        "id": "KCo2zzTM73tu"
      }
    },
    {
      "cell_type": "code",
      "execution_count": null,
      "metadata": {
        "id": "SItGk6dk4Rkl",
        "colab": {
          "base_uri": "https://localhost:8080/"
        },
        "outputId": "d27481c2-ad34-4760-89ae-ae57aed815f9"
      },
      "outputs": [
        {
          "output_type": "stream",
          "name": "stdout",
          "text": [
            "Hello world! Hey! Man!\n"
          ]
        }
      ],
      "source": [
        "#1--print的效果和空格\n",
        "print(\"Hello world\" + \" Hey! \" + \"!\")"
      ]
    },
    {
      "cell_type": "code",
      "source": [
        "#2--執行後，輸入名字+Enter才會print出來\n",
        "print(\"Hello\" +\" \" +input(\"what is your name?\") + \"!\")"
      ],
      "metadata": {
        "colab": {
          "base_uri": "https://localhost:8080/"
        },
        "id": "xlFKu7YO441s",
        "outputId": "00dfc13d-26cc-4f26-f4fb-264257f4d5b0"
      },
      "execution_count": null,
      "outputs": [
        {
          "output_type": "stream",
          "name": "stdout",
          "text": [
            "what is your name?456\n",
            "Hello 456!\n"
          ]
        }
      ]
    },
    {
      "cell_type": "code",
      "source": [
        "#3--熟悉程式由上往下讀  +  輸入名字計算長度(你敲空白鍵也會算1個字)\n",
        "name = \"Kenny\"\n",
        "print(name)\n",
        "\n",
        "name = \"Tom\"\n",
        "print(name)\n",
        "\n",
        "username = input(\"what is your name?\")\n",
        "length = len(username)\n",
        "print(length)"
      ],
      "metadata": {
        "colab": {
          "base_uri": "https://localhost:8080/"
        },
        "id": "FqmK-lpZ82ZW",
        "outputId": "2289166f-d909-4f8d-e81b-29ac055635a3"
      },
      "execution_count": null,
      "outputs": [
        {
          "output_type": "stream",
          "name": "stdout",
          "text": [
            "Kenny\n",
            "Tom\n",
            "what is your name? 456\n",
            "4\n"
          ]
        }
      ]
    },
    {
      "cell_type": "markdown",
      "source": [
        "###最終成品-第一節"
      ],
      "metadata": {
        "id": "2TfikYYLPIvq"
      }
    },
    {
      "cell_type": "code",
      "source": [
        "#4--最終作業\n",
        "最終作業\n",
        "print(\"welcome to the Band Name Generator.\")\n",
        "city = input(\"Which city did you grow up in?\")\n",
        "pet = input(\"what is the name of a pet?\")\n",
        "print(\"Your band name could be \" + city + \" \" + pet )"
      ],
      "metadata": {
        "colab": {
          "base_uri": "https://localhost:8080/"
        },
        "id": "iuSdVxTiOZNR",
        "outputId": "1ee70550-4530-4ed9-a662-49aa711716c3"
      },
      "execution_count": null,
      "outputs": [
        {
          "output_type": "stream",
          "name": "stdout",
          "text": [
            "welcome to the Band Name Generator.\n",
            "Which city did you grow up in?1\n",
            "what is the name of a pet?1\n",
            "Your band name could be 1 1\n"
          ]
        }
      ]
    },
    {
      "cell_type": "code",
      "source": [
        "#5--最終作業--在line2和line3最後加上\\n，可以讓回答顯示在問題下方，比較美觀\n",
        "print(\"welcome to the Band Name Generator.\")\n",
        "city = input(\"Which city did you grow up in?\\n\")\n",
        "pet = input(\"what is the name of a pet?\\n\")\n",
        "print(\"Your band name could be \" + city + \" \" + pet )"
      ],
      "metadata": {
        "colab": {
          "base_uri": "https://localhost:8080/"
        },
        "id": "urcixTf4PP0K",
        "outputId": "3e907abd-610e-4381-c1e3-890f57ecb6b1"
      },
      "execution_count": null,
      "outputs": [
        {
          "output_type": "stream",
          "name": "stdout",
          "text": [
            "welcome to the Band Name Generator.\n",
            "Which city did you grow up in?\n",
            "Tainan\n",
            "what is the name of a pet?\n",
            "wax apple\n",
            "Your band name could be Tainan wax apple\n"
          ]
        }
      ]
    },
    {
      "cell_type": "markdown",
      "source": [],
      "metadata": {
        "id": "YnrPGqvltu-K"
      }
    },
    {
      "cell_type": "markdown",
      "source": [
        "#第2節\n"
      ],
      "metadata": {
        "id": "X8DijCIQtzXe"
      }
    },
    {
      "cell_type": "markdown",
      "source": [
        "##熟悉各種print"
      ],
      "metadata": {
        "id": "-GD13mC4uQFi"
      }
    },
    {
      "cell_type": "code",
      "source": [
        "#1--熟悉各種印\n",
        "\n",
        "#印第0個字母\n",
        "print(\"hello\"[0])\n",
        "\n",
        "#合起來印\n",
        "print(\"123\" + \"345\")\n",
        "\n",
        "#加起來\n",
        "print(123 + 345)\n",
        "\n",
        "#直接印\n",
        "print(123456789)\n",
        "\n",
        "#合起來印\n",
        "print(123_456_789)\n",
        "\n",
        "#直接印\n",
        "print(3.14159)\n",
        "print(True)\n",
        "print(False)\n",
        "\n",
        "#印出各種字串的型式\n",
        "print(type(\"abc\"))\n",
        "print(type(123))\n",
        "print(type(3.14))\n",
        "print(type(True))"
      ],
      "metadata": {
        "colab": {
          "base_uri": "https://localhost:8080/"
        },
        "id": "HmXkip8ruDMj",
        "outputId": "93568819-00fc-45d4-d7fc-c4b0b10bb35a"
      },
      "execution_count": null,
      "outputs": [
        {
          "output_type": "stream",
          "name": "stdout",
          "text": [
            "h\n",
            "123345\n",
            "468\n",
            "123456789\n",
            "123456789\n",
            "3.14159\n",
            "True\n",
            "False\n",
            "<class 'str'>\n",
            "<class 'int'>\n",
            "<class 'float'>\n",
            "<class 'bool'>\n"
          ]
        }
      ]
    },
    {
      "cell_type": "code",
      "source": [
        "#2--綜合練習1\n",
        "print(int(\"123\") + int(\"456\"))\n",
        "\n",
        "name_of_the_user = input(\"enter your name\")\n",
        "length_of_name = len(name_of_the_user)\n",
        "\n",
        "print(type(\"number of letters in your name:  \")) #str\n",
        "print(type(length_of_name)) #int\n",
        "\n",
        "print(\"number of letters in your name:  \"  +  str(length_of_name))"
      ],
      "metadata": {
        "colab": {
          "base_uri": "https://localhost:8080/"
        },
        "id": "GZEgH9lk53MB",
        "outputId": "933e9744-e47d-4d5e-dea0-ab6faac21d45"
      },
      "execution_count": null,
      "outputs": [
        {
          "output_type": "stream",
          "name": "stdout",
          "text": [
            "579\n",
            "enter your namegagaagagag\n",
            "<class 'str'>\n",
            "<class 'int'>\n",
            "number of letters in your name:  10\n"
          ]
        }
      ]
    },
    {
      "cell_type": "code",
      "source": [
        "#3--綜合練習2\n",
        "print(\"my age\" + str(12))\n",
        "\n",
        "print(123 + 456)\n",
        "print(7 - 3)\n",
        "print(3 * 2)\n",
        "print(6 / 3)\n",
        "print(6 // 3)  #會無條件捨去\n",
        "print(5 / 3)\n",
        "print(5 // 3)   #會無條件捨去\n",
        "print(2 ** 2) #2的2次方\n",
        "print(2 ** 3) #2的3次方\n",
        "\n",
        "print(10 * 9 + 8 / 7 - 6)  #會先10*9-->再8/7-->前兩者相加後再-6\n",
        "print(10 * (9 + 8) / 7 - 6) #會先9+8=17 -->再10*17=170-->再170/7-->再-6"
      ],
      "metadata": {
        "colab": {
          "base_uri": "https://localhost:8080/"
        },
        "id": "q_fUw-v66E9a",
        "outputId": "6d1c5a9e-985d-41e7-82d7-60515f50f9ef"
      },
      "execution_count": null,
      "outputs": [
        {
          "output_type": "stream",
          "name": "stdout",
          "text": [
            "my age12\n",
            "579\n",
            "4\n",
            "6\n",
            "2.0\n",
            "2\n",
            "1.6666666666666667\n",
            "1\n",
            "4\n",
            "8\n",
            "85.14285714285714\n",
            "18.285714285714285\n"
          ]
        }
      ]
    },
    {
      "cell_type": "code",
      "source": [
        "#4--綜合練習3-算BMI\n",
        "height = 1.65\n",
        "weight = 84\n",
        "\n",
        "# Write your code here.\n",
        "# Calculate the bmi using weight and height.\n",
        "bmi = weight / height **2  # BMI = 體重 / 身高的平方\n",
        "\n",
        "print(bmi)  #照實印\n",
        "print(int(30.85))  #無條件捨去\n",
        "print(round(30.45))  #4捨5入\n",
        "print(round(30.55))  #4捨5入\n",
        "print(round(30.5549 , 2))  #4捨5入到小數點第2位\n",
        "print(round(30.5559 , 2))  #4捨5入到小數點第2位"
      ],
      "metadata": {
        "colab": {
          "base_uri": "https://localhost:8080/"
        },
        "id": "uY0JeJRh-fcJ",
        "outputId": "a0f9bc1a-7300-4a9a-f6e1-40afb6daad14"
      },
      "execution_count": null,
      "outputs": [
        {
          "output_type": "stream",
          "name": "stdout",
          "text": [
            "30.85399449035813\n",
            "30\n",
            "30\n",
            "31\n",
            "30.55\n",
            "30.56\n"
          ]
        }
      ]
    },
    {
      "cell_type": "code",
      "source": [
        "#5--字串F-string語法\n",
        "score = 0\n",
        "height = 1.8\n",
        "is_winning = True\n",
        "\n",
        "#f語法會把整串包起來\n",
        "print(f\"your score is = {score} ,   your height is {height}.   you are winning is       {is_winning}\") #故意讓你看空格的成果"
      ],
      "metadata": {
        "colab": {
          "base_uri": "https://localhost:8080/"
        },
        "id": "ADEhgER8BrU2",
        "outputId": "f55bea26-1c66-4514-d232-f80240a77915"
      },
      "execution_count": null,
      "outputs": [
        {
          "output_type": "stream",
          "name": "stdout",
          "text": [
            "your score is = 0 ,   your height is 1.8.   you are winning is       True\n"
          ]
        }
      ]
    },
    {
      "cell_type": "markdown",
      "source": [
        "###最終成品-第2節"
      ],
      "metadata": {
        "id": "i-K5kwAVHOQo"
      }
    },
    {
      "cell_type": "code",
      "source": [
        "print(\"welcome to the tip calculator!\")\n",
        "bill = float(input(\"what was the tatal bill? $\"))   #要求輸入一個數字(這個數字可以是小數點)，這個數字做為小數存在變數bill裡\n",
        "tip = int(input(\"what percentage tip would you like to give? 10 12 15  \"))  #要求輸入一個數字(不能輸入小數點)，這個數字做為數值存在變數tip裡\n",
        "people = int(input(\"how many people to spilt the bill? \"))\n",
        "tip_as_percent = tip / 100\n",
        "total_tip_amount = bill * tip_as_percent\n",
        "total_bill = bill + total_tip_amount\n",
        "bill_per_person = total_bill / people\n",
        "final_amount =round(bill_per_person , 2)\n",
        "print(f\"each person should pay : ${final_amount}\")"
      ],
      "metadata": {
        "colab": {
          "base_uri": "https://localhost:8080/"
        },
        "id": "0WbKFCXzHRqK",
        "outputId": "6fa5f10c-eb06-4c9e-c539-46857f046f8b"
      },
      "execution_count": null,
      "outputs": [
        {
          "output_type": "stream",
          "name": "stdout",
          "text": [
            "welcome to the tip calculator!\n",
            "what was the tatal bill? $6986896\n",
            "what percentage tip would you like to give? 10 12 15  896986\n",
            "how many people to spilt the bill? 896896\n",
            "each person should pay : $69883.76\n"
          ]
        }
      ]
    },
    {
      "cell_type": "markdown",
      "source": [
        "#第3節"
      ],
      "metadata": {
        "id": "gL-nKBSHjR1b"
      }
    },
    {
      "cell_type": "markdown",
      "source": [
        "##熟練大於、小於、等於"
      ],
      "metadata": {
        "id": "c0INRW8PkTPV"
      }
    },
    {
      "cell_type": "code",
      "source": [
        "#1--內容\n",
        "\n",
        "\n",
        "# > 大於\n",
        "# < 小於\n",
        "# >= 大於等於\n",
        "# <= 小於等魚\n",
        "# == 等於\n",
        "# != 不等於\n",
        "\n",
        "\n",
        "print(\"welcome to the rollercoaster\")\n",
        "height = int(input(\"what is your height in cm?  \"))\n",
        "\n",
        "if height >120:\n",
        "    print(\"you can ride the rollercoaster\")\n",
        "else:\n",
        "    print(\"sorry you have to grow taller before you can ride\")"
      ],
      "metadata": {
        "colab": {
          "base_uri": "https://localhost:8080/"
        },
        "id": "PFSokDERjTNH",
        "outputId": "c28a3fa2-266c-4410-b0ba-edb761a6312c"
      },
      "execution_count": null,
      "outputs": [
        {
          "output_type": "stream",
          "name": "stdout",
          "text": [
            "welcome to the rollercoaster\n",
            "what is your height in cm?  4\n",
            "sorry you have to grow taller before you can ride\n"
          ]
        }
      ]
    },
    {
      "cell_type": "code",
      "source": [
        "#2---%的用法\n",
        "print(10 % 3)  # ➜ 1，因為 10 ÷ 3 = 3.333333  -->意思是會留下1除不進\n",
        "print(14 % 3)  # ➜ 2，因為 14 ÷ 3 = 4.666666  -->意思是會留下2除不進\n",
        "\n",
        "#練習--判斷奇數和偶數\n",
        "number_to_check = int(input(\"what is the number you want to check\"))\n",
        "\n",
        "if number_to_check % 2 ==0:\n",
        "    print(\"even\")\n",
        "else:\n",
        "    print(\"odd\")"
      ],
      "metadata": {
        "colab": {
          "base_uri": "https://localhost:8080/"
        },
        "id": "VV-JZExwm1-c",
        "outputId": "c5a0afa3-374d-4abe-c6e8-fad227872aff"
      },
      "execution_count": null,
      "outputs": [
        {
          "output_type": "stream",
          "name": "stdout",
          "text": [
            "1\n",
            "2\n",
            "what is the number you want to check15\n",
            "odd\n"
          ]
        }
      ]
    },
    {
      "cell_type": "markdown",
      "source": [
        "###最終成品--第3節\n"
      ],
      "metadata": {
        "id": "fvoqt6lsCCgB"
      }
    },
    {
      "cell_type": "markdown",
      "source": [
        "####雲霄飛車門票購買系統"
      ],
      "metadata": {
        "id": "I4XT5s8mS6Af"
      }
    },
    {
      "cell_type": "code",
      "source": [
        "#3---設計雲霄飛車門票購買系統\n",
        "\n",
        "print(\"welcome to the rollercoaster\")\n",
        "height = int(input(\"what is your height in cm?  \"))\n",
        "\n",
        "if height >120:\n",
        "    print(\"you can ride the rollercoaster\")   #120公分以上才能遊玩\n",
        "    age = int(input(\"what is your age\"))\n",
        "    if age <= 12:                #若12歲或以下收5元\n",
        "        print(\"child tickets are $5.\")\n",
        "    elif age <= 18:              #else if的意思\n",
        "        print(\"youth tickets are $7.\")  #若13~18歲收7元\n",
        "    else:\n",
        "        print(\"adult tickets are $12.\") #若118歲以上收12元\n",
        "else:\n",
        "    print(\"sorry you have to grow taller before you can ride\")"
      ],
      "metadata": {
        "id": "HiJjPBH6rDnw"
      },
      "execution_count": null,
      "outputs": []
    },
    {
      "cell_type": "code",
      "source": [
        "#3---設計雲霄飛車門票購買系統-->加入尖叫瞬間拍照服務(3元)\n",
        "\n",
        "\n",
        "print(\"welcome to the rollercoaster\")\n",
        "height = int(input(\"what is your height in cm?  \"))\n",
        "\n",
        "if height >120:\n",
        "    print(\"you can ride the rollercoaster\")   #120公分以上才能遊玩\n",
        "    age = int(input(\"what is your age\"))\n",
        "    if age <= 12:                #若12歲或以下收5元\n",
        "        bill = 5\n",
        "        print(\"child tickets are $5.\")\n",
        "    elif age <= 18:              #else if的意思\n",
        "        bill = 7\n",
        "        print(\"youth tickets are $7.\")  #若13~18歲收7元\n",
        "    else:\n",
        "        bill = 12\n",
        "        print(\"adult tickets are $12.\") #若118歲以上收12元\n",
        "\n",
        "    wants_photo = input(\"do you want to have a photo take? type y for yes and n for no.\")\n",
        "    if wants_photo == \"y\":\n",
        "        # add #3 to their bill\n",
        "        bill += 3\n",
        "\n",
        "    print(f\"your final bill is #{bill}\")\n",
        "else:\n",
        "    print(\"sorry you have to grow taller before you can ride\")"
      ],
      "metadata": {
        "colab": {
          "base_uri": "https://localhost:8080/"
        },
        "id": "ze3Hcn56yaOb",
        "outputId": "f19b7fb2-0a82-4e66-ca61-35e55a336a15"
      },
      "execution_count": null,
      "outputs": [
        {
          "output_type": "stream",
          "name": "stdout",
          "text": [
            "welcome to the rollercoaster\n",
            "what is your height in cm?  158\n",
            "you can ride the rollercoaster\n",
            "what is your age15\n",
            "youth tickets are $7.\n",
            "do you want to have a photo take? type y for yes and n for no.y\n",
            "your final bill is #10\n"
          ]
        }
      ]
    },
    {
      "cell_type": "code",
      "source": [
        "#4--訂pizza\n",
        "\n",
        "print(\"welcome to python pizza deliverres\")\n",
        "size = input(\"what size pizza do you want? S , M or L : \")\n",
        "peooeroni = input(\"do you want pepperoni on your pizza?  Y or N: \")\n",
        "extra_cheese = input(\"do you want extra cheese? Y or N: \")\n",
        "\n",
        "#確認需要的pizza尺寸和訂單價格\n",
        "bill = 0\n",
        "if size == \"S\":\n",
        "    bill +- 15\n",
        "elif size == \"M\":\n",
        "    bill += 20\n",
        "elif size == \"L\":\n",
        "    bill += 25\n",
        "else:\n",
        "    print(\"you typed the wrong inputs.\")\n",
        "\n",
        "#確認是否加義大利辣香腸\n",
        "if peooeroni == \"Y\":\n",
        "    if size == \"S\":\n",
        "        bill += 2\n",
        "    else:\n",
        "        bill += 3\n",
        "\n",
        "#確認是否加起司\n",
        "if extra_cheese == \"Y\":\n",
        "    bill += 1\n",
        "\n",
        "print(f\"your final bill is:  ${bill}.\")"
      ],
      "metadata": {
        "id": "ccBV5fF88A4_"
      },
      "execution_count": null,
      "outputs": []
    },
    {
      "cell_type": "code",
      "source": [
        "#---小遊戲\n",
        "\n",
        "print(r'''\n",
        "*******************************************************************************\n",
        "          |                   |                  |                     |\n",
        " _________|________________.=\"\"_;=.______________|_____________________|_______\n",
        "|                   |  ,-\"_,=\"\"     `\"=.|                  |\n",
        "|___________________|__\"=._o`\"-._        `\"=.______________|___________________\n",
        "          |                `\"=._o`\"=._      _`\"=._                     |\n",
        " _________|_____________________:=._o \"=._.\"_.-=\"'\"=.__________________|_______\n",
        "|                   |    __.--\" , ; `\"=._o.\" ,-\"\"\"-._ \".   |\n",
        "|___________________|_._\"  ,. .` ` `` ,  `\"-._\"-._   \". '__|___________________\n",
        "          |           |o`\"=._` , \"` `; .\". ,  \"-._\"-._; ;              |\n",
        " _________|___________| ;`-.o`\"=._; .\" ` '`.\"\\ ` . \"-._ /_______________|_______\n",
        "|                   | |o ;    `\"-.o`\"=._``  '` \" ,__.--o;   |\n",
        "|___________________|_| ;     (#) `-.o `\"=.`_.--\"_o.-; ;___|___________________\n",
        "____/______/______/___|o;._    \"      `\".o|o_.--\"    ;o;____/______/______/____\n",
        "/______/______/______/_\"=._o--._        ; | ;        ; ;/______/______/______/_\n",
        "____/______/______/______/__\"=._o--._   ;o|o;     _._;o;____/______/______/____\n",
        "/______/______/______/______/____\"=._o._; | ;_.--\"o.--\"_/______/______/______/_\n",
        "____/______/______/______/______/_____\"=.o|o_.--\"\"___/______/______/______/____\n",
        "/______/______/______/______/______/______/______/______/______/______/_____ /\n",
        "*******************************************************************************\n",
        "''')\n",
        "print(\"Welcome to Treasure Island.\")\n",
        "print(\"Your mission is to find the treasure.\")\n",
        "choice1 = input('You\\'re at a crossroad, where do you want to go? '\n",
        "                'Type \"left\" or \"right\".\\n').lower()\n",
        "\n",
        "if choice1 == \"left\":\n",
        "    choice2 = input('You\\'ve come to a lake. '\n",
        "                    'There is an island in the middle of the lake. '\n",
        "                    'Type \"wait\" to wait for a boat. '\n",
        "                    'Type \"swim\" to swim across.\\n').lower()\n",
        "    if choice2 == \"wait\":\n",
        "        choice3 = input(\"You arrive at the island unharmed. \"\n",
        "                        \"There is house with 3 doors. One red, \"\n",
        "                        \"one yellow and one blue. \"\n",
        "                        \"Which colour do you choose?\\n\").lower()\n",
        "        if choice3 == \"red\":\n",
        "            print(\"It's a room full of fire. Game Over\")\n",
        "        elif choice3 == \"yellow\":\n",
        "            print(\"You found the treasure. You Win!\")\n",
        "        elif choice3 == \"blue\":\n",
        "            print(\"You enter a room of beasts. Game Over.\")\n",
        "        else:\n",
        "            print(\"You chose a door that doesn't exist. Game Over.\")\n",
        "    else:\n",
        "        print(\"You got attacked by an angry trout. Game Over.\")\n",
        "\n",
        "else:\n",
        "    print(\"You fell in to a hole. Game Over.\")\n"
      ],
      "metadata": {
        "id": "rrTwRKm3CKgL",
        "outputId": "77568d07-a792-4bb1-8037-6a3cf26ef029",
        "colab": {
          "base_uri": "https://localhost:8080/"
        }
      },
      "execution_count": null,
      "outputs": [
        {
          "output_type": "stream",
          "name": "stdout",
          "text": [
            "\n",
            "*******************************************************************************\n",
            "          |                   |                  |                     |\n",
            " _________|________________.=\"\"_;=.______________|_____________________|_______\n",
            "|                   |  ,-\"_,=\"\"     `\"=.|                  |\n",
            "|___________________|__\"=._o`\"-._        `\"=.______________|___________________\n",
            "          |                `\"=._o`\"=._      _`\"=._                     |\n",
            " _________|_____________________:=._o \"=._.\"_.-=\"'\"=.__________________|_______\n",
            "|                   |    __.--\" , ; `\"=._o.\" ,-\"\"\"-._ \".   |\n",
            "|___________________|_._\"  ,. .` ` `` ,  `\"-._\"-._   \". '__|___________________\n",
            "          |           |o`\"=._` , \"` `; .\". ,  \"-._\"-._; ;              |\n",
            " _________|___________| ;`-.o`\"=._; .\" ` '`.\"\\ ` . \"-._ /_______________|_______\n",
            "|                   | |o ;    `\"-.o`\"=._``  '` \" ,__.--o;   |\n",
            "|___________________|_| ;     (#) `-.o `\"=.`_.--\"_o.-; ;___|___________________\n",
            "____/______/______/___|o;._    \"      `\".o|o_.--\"    ;o;____/______/______/____\n",
            "/______/______/______/_\"=._o--._        ; | ;        ; ;/______/______/______/_\n",
            "____/______/______/______/__\"=._o--._   ;o|o;     _._;o;____/______/______/____\n",
            "/______/______/______/______/____\"=._o._; | ;_.--\"o.--\"_/______/______/______/_\n",
            "____/______/______/______/______/_____\"=.o|o_.--\"\"___/______/______/______/____\n",
            "/______/______/______/______/______/______/______/______/______/______/_____ /\n",
            "*******************************************************************************\n",
            "\n",
            "Welcome to Treasure Island.\n",
            "Your mission is to find the treasure.\n",
            "You're at a crossroad, where do you want to go? Type \"left\" or \"right\".\n",
            "1\n",
            "You fell in to a hole. Game Over.\n"
          ]
        }
      ]
    },
    {
      "cell_type": "markdown",
      "source": [
        "#第4節"
      ],
      "metadata": {
        "id": "bG3dFmyVYbF3"
      }
    },
    {
      "cell_type": "markdown",
      "source": [
        "##熟悉random用法"
      ],
      "metadata": {
        "id": "IbjY4XcSYeYF"
      }
    },
    {
      "cell_type": "code",
      "source": [
        "import random    #🔹 意思：匯入 Python 內建的 random 模組，這個模組裡有很多方法可以產生隨機數字、隨機選擇、打亂列表等等。\n",
        "                 #📦 好比是打開一個隨機工具箱。\n",
        "\n",
        "random_integer = random.randint(1, 10)     #意思：產生一個整數，從 1 到 10（含 1 和 10），然後把它存在變數 random_integer 裡。 🎲 例如：可能會是 1、3、7、10 這樣。\n",
        "print(f\"random_integer : {random_integer}\")                      #🔹 意思：把剛剛隨機生成的整數印出來。\n",
        "\n",
        "random_number_0_to_1 = random.random() * 10   # random.random() 會產生 0.0 到 1.0 之間（不含 1.0） 的小數。然後再乘上 10，所以變成 0.0 到接近 10 的小數。\n",
        "print(f\"random_number_0_to_1 :  {random_number_0_to_1}\")\n",
        "\n",
        "random_float = random.uniform(1, 10)  # random.uniform(a, b) 會產生一個 介於 a 和 b 之間的浮點數（包含 1 和 10）。 跟上面 random.random() * 10 不太一樣的是，它直接給出範圍，更直觀。\n",
        "print(f\"random_float :   {random_float}\")\n",
        "\n",
        "random_heads_or_tails = random.randint(0, 1)  #意思：產生一個整數，從0到1 (所以只可能是 0 或 1)。 用來模擬「丟硬幣」，0 當作「正面」，1 當作「反面」。\n",
        "if random_heads_or_tails == 0:\n",
        "    print(\"Heads\")               #如果是 0，就印出 \"Heads\"（正面）\n",
        "else:\n",
        "    print(\"Tails\")               #如果是 1，就印出 \"Tails\"（反面）\n"
      ],
      "metadata": {
        "colab": {
          "base_uri": "https://localhost:8080/"
        },
        "id": "nbHNG2wIYcz8",
        "outputId": "6479fb10-ba4f-4ded-bc73-01c7253ca9cc"
      },
      "execution_count": null,
      "outputs": [
        {
          "output_type": "stream",
          "name": "stdout",
          "text": [
            "random_integer : 8\n",
            "random_number_0_to_1 :  9.679735764273115\n",
            "random_float :   4.062451258941443\n",
            "Heads\n"
          ]
        }
      ]
    },
    {
      "cell_type": "markdown",
      "source": [
        "##數列"
      ],
      "metadata": {
        "id": "L2qa02hzMCWq"
      }
    },
    {
      "cell_type": "code",
      "source": [
        "# .append  👉 它把 [4, 5] 當作一個東西，整包塞進來了。\n",
        "numbers = [1, 2, 3]\n",
        "numbers.append([4, 5])\n",
        "print(numbers)\n",
        "\n",
        "# .extend  👉 它把 [4, 5] 展開來，一個一個加進 list。\n",
        "numbers = [1, 2, 3]\n",
        "numbers.extend([4, 5])\n",
        "print(numbers)"
      ],
      "metadata": {
        "colab": {
          "base_uri": "https://localhost:8080/"
        },
        "id": "o__ZA5yIAugx",
        "outputId": "c24f962c-53f6-4679-d5a0-cce2ae2b695e"
      },
      "execution_count": 59,
      "outputs": [
        {
          "output_type": "stream",
          "name": "stdout",
          "text": [
            "[1, 2, 3, [4, 5]]\n",
            "[1, 2, 3, 4, 5]\n"
          ]
        }
      ]
    },
    {
      "cell_type": "code",
      "source": [
        "#範例--建立一個隨機挑朋友的程式\n",
        "\n",
        "import random         #🔹 匯入 random 模組，裡面有隨機挑選用的工具（像 choice() 跟 randint()）\n",
        "friends = [\"Alice\", \"Bob\", \"Charlie\", \"David\", \"Emanuel\"] #🔹 建立一個名叫 friends 的 list（清單），裡面有 5 個朋友的名字\n",
        "\n",
        "# 1st Option    -->🪄 random.choice(清單) 會直接從 list 裡 隨機挑一個元素出來\n",
        "print(random.choice(friends))\n",
        "\n",
        "# 2nd Option     --> random.randint(0, 4) 會從 0～4 中隨機挑一個整數（因為 list 有 5 個人，index 是 0~4）\n",
        "random_index = random.randint(0, 4)\n",
        "print(friends[random_index])\n"
      ],
      "metadata": {
        "id": "pDysT9JKOKPj"
      },
      "execution_count": null,
      "outputs": []
    },
    {
      "cell_type": "markdown",
      "source": [
        "###最終成品-第4節"
      ],
      "metadata": {
        "id": "r9Kk6QM0SDmv"
      }
    },
    {
      "cell_type": "markdown",
      "source": [
        "####遊戲-剪刀石頭布"
      ],
      "metadata": {
        "id": "oHWgWykKS8wh"
      }
    },
    {
      "cell_type": "code",
      "source": [
        "import random  # 匯入 random 模組，用來讓電腦隨機出拳\n",
        "\n",
        "# 三種出拳圖案（石頭）\n",
        "rock = '''\n",
        "    _______\n",
        "---'   ____)\n",
        "      (_____)\n",
        "      (_____)\n",
        "      (____)\n",
        "---.__(___)\n",
        "'''\n",
        "\n",
        "# 出拳圖案（布）\n",
        "paper = '''\n",
        "    _______\n",
        "---'   ____)____\n",
        "          ______)\n",
        "          _______)\n",
        "         _______)\n",
        "---.__________)\n",
        "'''\n",
        "\n",
        "# 出拳圖案（剪刀）\n",
        "scissors = '''\n",
        "    _______\n",
        "---'   ____)____\n",
        "          ______)\n",
        "       __________)\n",
        "      (____)\n",
        "---.__(___)\n",
        "'''\n",
        "\n",
        "# 把三種出拳圖裝進一個清單，讓 index 0=石頭, 1=布, 2=剪刀\n",
        "game_images = [rock, paper, scissors]\n",
        "\n",
        "# 玩家輸入選擇（0=石頭, 1=布, 2=剪刀）\n",
        "user_choice = int(input(\"What do you choose? Type 0 for Rock, 1 for Paper or 2 for Scissors.\\n\"))\n",
        "\n",
        "# 檢查玩家輸入是否有效（在 0～2 範圍內）\n",
        "if user_choice >= 0 and user_choice <= 2:\n",
        "    print(game_images[user_choice])  # 顯示玩家選擇的圖案\n",
        "\n",
        "# 電腦隨機出拳（0～2）\n",
        "computer_choice = random.randint(0, 2)\n",
        "print(\"Computer chose:\")\n",
        "print(game_images[computer_choice])  # 顯示電腦的出拳圖案\n",
        "\n",
        "# 以下是勝負邏輯判斷\n",
        "if user_choice >= 3 or user_choice < 0:\n",
        "    print(\"You typed an invalid number. You lose!\")  # 玩家輸入錯誤，直接輸\n",
        "elif user_choice == 0 and computer_choice == 2:\n",
        "    print(\"You win!\")  # 石頭贏剪刀\n",
        "elif computer_choice == 0 and user_choice == 2:\n",
        "    print(\"You lose!\")  # 剪刀輸石頭\n",
        "elif computer_choice > user_choice:\n",
        "    print(\"You lose!\")  # 剩下的輸情況（1輸2，0輸1）\n",
        "elif user_choice > computer_choice:\n",
        "    print(\"You win!\")  # 玩家贏的情況（2贏1，1贏0）\n",
        "elif computer_choice == user_choice:\n",
        "    print(\"It's a draw!\")  # 出一樣，平手\n"
      ],
      "metadata": {
        "colab": {
          "base_uri": "https://localhost:8080/"
        },
        "id": "iayaQQXJSGft",
        "outputId": "85de9e33-4289-4813-a480-6807d8b54537"
      },
      "execution_count": 62,
      "outputs": [
        {
          "output_type": "stream",
          "name": "stdout",
          "text": [
            "What do you choose? Type 0 for Rock, 1 for Paper or 2 for Scissors.\n",
            "0\n",
            "\n",
            "    _______\n",
            "---'   ____)\n",
            "      (_____)\n",
            "      (_____)\n",
            "      (____)\n",
            "---.__(___)\n",
            "\n",
            "Computer chose:\n",
            "\n",
            "    _______\n",
            "---'   ____)____\n",
            "          ______)\n",
            "       __________)\n",
            "      (____)\n",
            "---.__(___)\n",
            "\n",
            "You win!\n"
          ]
        }
      ]
    },
    {
      "cell_type": "markdown",
      "source": [
        "#第5節"
      ],
      "metadata": {
        "id": "dM2oS9hETGsl"
      }
    },
    {
      "cell_type": "markdown",
      "source": [
        "##迴圈"
      ],
      "metadata": {
        "id": "G62zqFxfT3Cb"
      }
    },
    {
      "cell_type": "code",
      "source": [
        "#迴圈\n",
        "fruits = [\"Apple\", \"Peach\", \"Pear\"]  # 建立一個清單，裡面有三種水果\n",
        "\n",
        "# 用 for 迴圈走訪每個水果，變數 fruit 會依序變成 Apple → Peach → Pear  (fruit在for這行直接被假設成變數，依序儲存所有水果的名稱)\n",
        "for fruit in fruits:\n",
        "    print(fruit)                 # 印出水果名稱\n",
        "    print(fruit + \" pie\")       # 印出「水果 + pie」，像是 Apple pie\n",
        "\n",
        "print(fruits)  # 最後印出整個原始清單（不受 for 迴圈影響）\n"
      ],
      "metadata": {
        "colab": {
          "base_uri": "https://localhost:8080/"
        },
        "id": "g-Z8CDHyT4nN",
        "outputId": "c681425e-a01e-468f-aba8-9c2579b4bf3b"
      },
      "execution_count": 1,
      "outputs": [
        {
          "output_type": "stream",
          "name": "stdout",
          "text": [
            "Apple\n",
            "Apple pie\n",
            "Peach\n",
            "Peach pie\n",
            "Pear\n",
            "Pear pie\n",
            "['Apple', 'Peach', 'Pear']\n"
          ]
        }
      ]
    },
    {
      "cell_type": "code",
      "source": [
        "#找出整份成績中最高的分數---詳細版\n",
        "student_scores = [150, 142, 185, 120, 171, 184, 149, 24, 59, 68, 199, 78, 65, 89, 86, 55, 91, 64, 89]\n",
        "# 建立一個學生分數的清單\n",
        "\n",
        "max_score = 0  # 先假設最高分是 0（還沒比對之前的起點）\n",
        "\n",
        "# 用 for 迴圈一個一個檢查每個學生的分數\n",
        "for score in student_scores:\n",
        "    if score > max_score:       # 如果這個分數比目前記錄的最高分還高\n",
        "        max_score = score       # 就更新 max_score 為這個分數\n",
        "\n",
        "print(max_score)  # 印出整份成績中最高的分數\n",
        "\n",
        "\n",
        "print(max(student_scores))  # 也會印出 199\n"
      ],
      "metadata": {
        "colab": {
          "base_uri": "https://localhost:8080/"
        },
        "id": "FP5bWSo9UTzc",
        "outputId": "21a6f6a6-5d61-46db-f644-ee874d341b08"
      },
      "execution_count": 3,
      "outputs": [
        {
          "output_type": "stream",
          "name": "stdout",
          "text": [
            "199\n",
            "199\n"
          ]
        }
      ]
    },
    {
      "cell_type": "code",
      "source": [
        "#找出整份成績中最高的分數---2行秒殺版\n",
        "student_scores = [150, 142, 185, 120, 171, 184, 149, 24, 59, 68, 199, 78, 65, 89, 86, 55, 91, 64, 89]\n",
        "# 建立一個學生分數的清單\n",
        "\n",
        "print(max(student_scores))  # 也會印出 199"
      ],
      "metadata": {
        "colab": {
          "base_uri": "https://localhost:8080/"
        },
        "id": "WUUn2-eTVGQk",
        "outputId": "5590c3e7-27f6-4f59-88e5-a939a3d59e95"
      },
      "execution_count": 4,
      "outputs": [
        {
          "output_type": "stream",
          "name": "stdout",
          "text": [
            "199\n"
          ]
        }
      ]
    },
    {
      "cell_type": "code",
      "source": [
        "# 🧠使用 range() 搭配 for 迴圈：學習數字序列與加總邏輯\n",
        "#\n",
        "# 🎯 教學目的：\n",
        "# 1. 理解 range(start, end) 的用法（包含起點，不包含終點）\n",
        "# 2. 用 for 迴圈列出一連串數字\n",
        "# 3. 練習用 total += number 實作數字加總（小高斯挑戰）\n",
        "#-----------------------------------------------------------------------------------------------------\n",
        "print(range(1, 10))  # 這行不會印出數字，只會印出 range(1, 10)，因為 range 是一個範圍物件，不是列表\n",
        "\n",
        "# 用 for 迴圈搭配 range(1, 10)，會\n",
        "\n",
        "\n",
        "print(range(1, 10))  # 這行不會印出數字，只會印出 range(1, 10)，因為 range 是一個範圍物件，不是列表\n",
        "\n",
        "# 用 for 迴圈搭配 range(1, 10)，會印出從 1 到 9（不含 10）\n",
        "for number in range(1, 10):\n",
        "    print(number)\n",
        "\n",
        "# 這行印出 1 到 10（range(1, 11) 的結尾是 11，但不包含 11）\n",
        "for number in range(1, 11):\n",
        "    print(number)\n",
        "\n",
        "\n",
        "# 🧠 小高斯挑戰：把 1 到 100 全部加總起來\n",
        "\n",
        "total = 0  # 先建立一個 total 變數來儲存總和\n",
        "for number in range(1, 101):  # 從 1 加到 100（range 的結尾不包含 101）\n",
        "    total += number           # 每次迴圈就把 number 加進 total 裡\n",
        "\n",
        "print(total)  # 最後印出總和（會是 5050）\n"
      ],
      "metadata": {
        "colab": {
          "base_uri": "https://localhost:8080/"
        },
        "id": "qVu4cow6V5j-",
        "outputId": "f383a365-a878-4e0c-8047-889d9d785c20"
      },
      "execution_count": 5,
      "outputs": [
        {
          "output_type": "stream",
          "name": "stdout",
          "text": [
            "range(1, 10)\n",
            "1\n",
            "2\n",
            "3\n",
            "4\n",
            "5\n",
            "6\n",
            "7\n",
            "8\n",
            "9\n",
            "1\n",
            "2\n",
            "3\n",
            "4\n",
            "5\n",
            "6\n",
            "7\n",
            "8\n",
            "9\n",
            "10\n",
            "5050\n"
          ]
        }
      ]
    },
    {
      "cell_type": "code",
      "source": [
        "# 🧠使用 range() + for 迴圈進行加總：多行基礎寫法 vs 一行進階寫法\n",
        "#\n",
        "# 🎯 教學目的：\n",
        "# 1. 熟悉 for 迴圈與 range() 的搭配用法\n",
        "# 2. 練習建立加總邏輯（total += number）\n",
        "# 3. 學會用 Python 內建 sum() 寫出「一行秒殺」版的總和計算\n",
        "\n",
        "# ---------------------------------------------------------\n",
        "# ✅ 多行基礎寫法（教學用，幫助理解加總邏輯）\n",
        "total = 0\n",
        "for number in range(1, 101):  # 從 1 加到 100（不含 101）\n",
        "    total += number           # 每次加進 total 裡\n",
        "\n",
        "print(total)  # 印出總和：5050\n",
        "\n",
        "# ---------------------------------------------------------\n",
        "# ⚡ 一行進階秒殺寫法（最簡潔做法）\n",
        "print(sum(range(1, 101)))  # 同樣印出 1 到 100 的總和（結果也是 5050）\n"
      ],
      "metadata": {
        "colab": {
          "base_uri": "https://localhost:8080/"
        },
        "id": "0rsWeB34XN-e",
        "outputId": "0cb30eaa-afcf-46bf-ce53-b1f1d1193e56"
      },
      "execution_count": 6,
      "outputs": [
        {
          "output_type": "stream",
          "name": "stdout",
          "text": [
            "5050\n",
            "5050\n"
          ]
        }
      ]
    },
    {
      "cell_type": "markdown",
      "source": [
        "###最終成品-第5節"
      ],
      "metadata": {
        "id": "Xhoy1Y3qX98U"
      }
    },
    {
      "cell_type": "markdown",
      "source": [
        "####隨機密碼產生器"
      ],
      "metadata": {
        "id": "DWXXDPZJYBAZ"
      }
    },
    {
      "cell_type": "code",
      "source": [
        "#隨機密碼產生器\n",
        "# 🧠隨機密碼產生器：使用 list、for 迴圈、random 選取與 shuffle 混排\n",
        "#\n",
        "# 🎯 教學目的：\n",
        "# 1. 練習從清單中隨機選取元素（random.choice）\n",
        "# 2. 學會使用 for 迴圈重複加入內容\n",
        "# 3. 練習使用 list 組裝資料，再轉換成字串\n",
        "# 4. 理解 random.shuffle() 的作用（隨機打亂清單順序）\n",
        "# 5. 做出簡易互動式「密碼產生器」，整合輸入、資料處理、輸出\n",
        "\n",
        "# ---------------------------------------------------------\n",
        "import random  # 匯入 random 模組來產生隨機值\n",
        "\n",
        "# 英文字母清單（小寫 + 大寫）\n",
        "letters = ['a', 'b', 'c', 'd', 'e', 'f', 'g', 'h', 'i', 'j', 'k', 'l', 'm', 'n', 'o', 'p', 'q', 'r', 's', 't', 'u', 'v', 'w', 'x', 'y', 'z', 'A', 'B', 'C', 'D', 'E', 'F', 'G', 'H', 'I', 'J', 'K', 'L', 'M', 'N', 'O', 'P', 'Q', 'R', 'S', 'T', 'U', 'V', 'W', 'X', 'Y', 'Z']\n",
        "\n",
        "\n",
        "# 數字清單（字串型）\n",
        "numbers = ['0', '1', '2', '3', '4', '5', '6', '7', '8', '9']\n",
        "\n",
        "# 符號清單\n",
        "symbols = ['!', '#', '$', '%', '&', '(', ')', '*', '+']\n",
        "\n",
        "print(\"Welcome to the PyPassword Generator!\")  # 顯示歡迎訊息\n",
        "\n",
        "# 從使用者那邊取得想要幾個字母、符號、數字\n",
        "nr_letters = int(input(\"How many letters would you like in your password?\\n\"))\n",
        "nr_symbols = int(input(\"How many symbols would you like?\\n\"))\n",
        "nr_numbers = int(input(\"How many numbers would you like?\\n\"))\n",
        "\n",
        "# ---------------------------------------------------------\n",
        "# ✅ Hard level：先組合所有元素 → 再打亂 → 再轉成密碼\n",
        "\n",
        "password_list = []  # 建立一個空 list 來裝密碼用的字元\n",
        "\n",
        "# 隨機挑選指定數量的字母\n",
        "for char in range(0, nr_letters):\n",
        "    password_list.append(random.choice(letters))\n",
        "\n",
        "# 隨機挑選指定數量的符號\n",
        "for char in range(0, nr_symbols):\n",
        "    password_list.append(random.choice(symbols))\n",
        "\n",
        "# 隨機挑選指定數量的數字\n",
        "for char in range(0, nr_numbers):\n",
        "    password_list.append(random.choice(numbers))\n",
        "\n",
        "print(password_list)  # 印出未打亂的密碼清單（可看到結構）\n",
        "\n",
        "random.shuffle(password_list)  # 打亂順序，避免字母都在前面、數字都在後面\n",
        "\n",
        "print(password_list)  # 印出打亂後的清單（可確認順序已變）\n",
        "\n",
        "# 將 list 中的字元合併成一個字串\n",
        "password = \"\"\n",
        "for char in password_list:\n",
        "    password += char\n",
        "\n",
        "print(f\"Your password is: {password}\")  # 最後輸出完整密碼\n"
      ],
      "metadata": {
        "id": "XE8Cp_qVXrJW"
      },
      "execution_count": null,
      "outputs": []
    }
  ]
}